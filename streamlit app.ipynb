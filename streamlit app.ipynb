{
 "cells": [
  {
   "cell_type": "code",
   "id": "initial_id",
   "metadata": {
    "collapsed": true,
    "ExecuteTime": {
     "end_time": "2024-08-27T06:58:45.196201Z",
     "start_time": "2024-08-27T06:58:45.190207Z"
    }
   },
   "source": [
    "import streamlit as st\n",
    "import pandas as pd"
   ],
   "outputs": [],
   "execution_count": 10
  },
  {
   "metadata": {
    "ExecuteTime": {
     "end_time": "2024-08-27T06:58:45.227604Z",
     "start_time": "2024-08-27T06:58:45.199445Z"
    }
   },
   "cell_type": "code",
   "source": [
    "st.write(\"\"\"My first app Hello *world!*\"\"\")\n",
    "\n",
    "df=pd.read_csv('/Users/senelisiwemuradzikwa/Desktop/project2/synthetic_cancer_data.csv')"
   ],
   "id": "28b764b822a321cd",
   "outputs": [],
   "execution_count": 11
  },
  {
   "metadata": {
    "ExecuteTime": {
     "end_time": "2024-08-27T06:58:45.236207Z",
     "start_time": "2024-08-27T06:58:45.229150Z"
    }
   },
   "cell_type": "code",
   "source": "df.head()\n",
   "id": "e0198990eccd76ca",
   "outputs": [
    {
     "data": {
      "text/plain": [
       "   radius_mean  texture_mean  perimeter_mean   area_mean  smoothness_mean  \\\n",
       "0    15.490142     12.923146       93.366810  417.100499         0.068111   \n",
       "1    13.585207     17.896773       96.411768  443.981896         0.088012   \n",
       "2    15.943066     18.286427      104.245769  574.729361         0.100105   \n",
       "3    18.569090     15.988614      103.807031  561.037027         0.100940   \n",
       "4    13.297540     19.193571       67.334959  497.909841         0.090999   \n",
       "\n",
       "   compactness_mean  concavity_mean  concave_points_mean  symmetry_mean  \\\n",
       "0          0.246309        0.237849             0.084318       0.228149   \n",
       "1          0.295471        0.153892             0.131470       0.184519   \n",
       "2          0.130072        0.243480             0.078870       0.202884   \n",
       "3          0.228148        0.267782             0.057746       0.186132   \n",
       "4          0.167468        0.220672             0.053301       0.186965   \n",
       "\n",
       "   fractal_dimension_mean  diagnosis  \n",
       "0                0.073687          0  \n",
       "1                0.066067          0  \n",
       "2                0.070287          1  \n",
       "3                0.082785          1  \n",
       "4                0.071911          0  "
      ],
      "text/html": [
       "<div>\n",
       "<style scoped>\n",
       "    .dataframe tbody tr th:only-of-type {\n",
       "        vertical-align: middle;\n",
       "    }\n",
       "\n",
       "    .dataframe tbody tr th {\n",
       "        vertical-align: top;\n",
       "    }\n",
       "\n",
       "    .dataframe thead th {\n",
       "        text-align: right;\n",
       "    }\n",
       "</style>\n",
       "<table border=\"1\" class=\"dataframe\">\n",
       "  <thead>\n",
       "    <tr style=\"text-align: right;\">\n",
       "      <th></th>\n",
       "      <th>radius_mean</th>\n",
       "      <th>texture_mean</th>\n",
       "      <th>perimeter_mean</th>\n",
       "      <th>area_mean</th>\n",
       "      <th>smoothness_mean</th>\n",
       "      <th>compactness_mean</th>\n",
       "      <th>concavity_mean</th>\n",
       "      <th>concave_points_mean</th>\n",
       "      <th>symmetry_mean</th>\n",
       "      <th>fractal_dimension_mean</th>\n",
       "      <th>diagnosis</th>\n",
       "    </tr>\n",
       "  </thead>\n",
       "  <tbody>\n",
       "    <tr>\n",
       "      <th>0</th>\n",
       "      <td>15.490142</td>\n",
       "      <td>12.923146</td>\n",
       "      <td>93.366810</td>\n",
       "      <td>417.100499</td>\n",
       "      <td>0.068111</td>\n",
       "      <td>0.246309</td>\n",
       "      <td>0.237849</td>\n",
       "      <td>0.084318</td>\n",
       "      <td>0.228149</td>\n",
       "      <td>0.073687</td>\n",
       "      <td>0</td>\n",
       "    </tr>\n",
       "    <tr>\n",
       "      <th>1</th>\n",
       "      <td>13.585207</td>\n",
       "      <td>17.896773</td>\n",
       "      <td>96.411768</td>\n",
       "      <td>443.981896</td>\n",
       "      <td>0.088012</td>\n",
       "      <td>0.295471</td>\n",
       "      <td>0.153892</td>\n",
       "      <td>0.131470</td>\n",
       "      <td>0.184519</td>\n",
       "      <td>0.066067</td>\n",
       "      <td>0</td>\n",
       "    </tr>\n",
       "    <tr>\n",
       "      <th>2</th>\n",
       "      <td>15.943066</td>\n",
       "      <td>18.286427</td>\n",
       "      <td>104.245769</td>\n",
       "      <td>574.729361</td>\n",
       "      <td>0.100105</td>\n",
       "      <td>0.130072</td>\n",
       "      <td>0.243480</td>\n",
       "      <td>0.078870</td>\n",
       "      <td>0.202884</td>\n",
       "      <td>0.070287</td>\n",
       "      <td>1</td>\n",
       "    </tr>\n",
       "    <tr>\n",
       "      <th>3</th>\n",
       "      <td>18.569090</td>\n",
       "      <td>15.988614</td>\n",
       "      <td>103.807031</td>\n",
       "      <td>561.037027</td>\n",
       "      <td>0.100940</td>\n",
       "      <td>0.228148</td>\n",
       "      <td>0.267782</td>\n",
       "      <td>0.057746</td>\n",
       "      <td>0.186132</td>\n",
       "      <td>0.082785</td>\n",
       "      <td>1</td>\n",
       "    </tr>\n",
       "    <tr>\n",
       "      <th>4</th>\n",
       "      <td>13.297540</td>\n",
       "      <td>19.193571</td>\n",
       "      <td>67.334959</td>\n",
       "      <td>497.909841</td>\n",
       "      <td>0.090999</td>\n",
       "      <td>0.167468</td>\n",
       "      <td>0.220672</td>\n",
       "      <td>0.053301</td>\n",
       "      <td>0.186965</td>\n",
       "      <td>0.071911</td>\n",
       "      <td>0</td>\n",
       "    </tr>\n",
       "  </tbody>\n",
       "</table>\n",
       "</div>"
      ]
     },
     "execution_count": 12,
     "metadata": {},
     "output_type": "execute_result"
    }
   ],
   "execution_count": 12
  },
  {
   "metadata": {
    "ExecuteTime": {
     "end_time": "2024-08-27T06:58:45.270718Z",
     "start_time": "2024-08-27T06:58:45.237031Z"
    }
   },
   "cell_type": "code",
   "source": "st.line_chart(df)",
   "id": "b144c66abc2e9982",
   "outputs": [
    {
     "data": {
      "text/plain": [
       "DeltaGenerator()"
      ]
     },
     "execution_count": 13,
     "metadata": {},
     "output_type": "execute_result"
    }
   ],
   "execution_count": 13
  }
 ],
 "metadata": {
  "kernelspec": {
   "display_name": "Python 3",
   "language": "python",
   "name": "python3"
  },
  "language_info": {
   "codemirror_mode": {
    "name": "ipython",
    "version": 2
   },
   "file_extension": ".py",
   "mimetype": "text/x-python",
   "name": "python",
   "nbconvert_exporter": "python",
   "pygments_lexer": "ipython2",
   "version": "2.7.6"
  }
 },
 "nbformat": 4,
 "nbformat_minor": 5
}
